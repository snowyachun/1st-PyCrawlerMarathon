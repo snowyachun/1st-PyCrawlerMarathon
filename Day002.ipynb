{
 "cells": [
  {
   "cell_type": "code",
   "execution_count": null,
   "metadata": {},
   "outputs": [],
   "source": [
    "Python 下載CSV檔案與解析\n",
    "了解 csv 檔案格式與內容\n",
    "能夠利用套件存取 csv 格式的檔案\n",
    "作業目標\n",
    "比較一下範例檔案中的「File I/O」與「CSV Reader」讀出來的內容有什麼差異\n",
    "\n",
    "根據範例檔案的結果：\n",
    "\n",
    "取出班次一的每一個時間\n",
    "將班次一的每一個時間用一種資料型態保存\n",
    "將班次一到五與其所有時間用一種資料型態個別保存\n",
    "比較一下範例檔案中的「File I/O」與「CSV Reader」讀出來的內容有什麼差異"
   ]
  },
  {
   "cell_type": "code",
   "execution_count": null,
   "metadata": {},
   "outputs": [],
   "source": [
    "# 一個像文字類型，一個像向量\n",
    "根據範例檔案的結果：\n",
    "取出班次一的每一個時間\n",
    "將班次一的每一個時間用一種資料型態保存\n",
    "將班次一到五與其所有時間用一種資料型態個別保存"
   ]
  },
  {
   "cell_type": "code",
   "execution_count": null,
   "metadata": {},
   "outputs": [],
   "source": [
    "import csv\n",
    "# 開啟 CSV 檔案\n",
    "# with open('/data/example.csv', newline='', encoding='utf-8') as csvfile:\n",
    "with open('/Users/user/Desktop/1st-PyCrawlerMarathon/範例/D2/example.csv', newline='', encoding='utf-8') as csvfile:\n",
    "    # 讀取 CSV 檔案內容\n",
    "    rows = csv.reader(csvfile)\n",
    "    # 以迴圈輸出每一列\n",
    "    for row in rows:\n",
    "        print(row)"
   ]
  },
  {
   "cell_type": "code",
   "execution_count": null,
   "metadata": {},
   "outputs": [],
   "source": [
    "# 1. 取出班次一的每一個時間\n",
    "with open('/Users/user/Desktop/1st-PyCrawlerMarathon/範例/D2/example.csv', newline='', encoding='utf-8') as csvfile:\n",
    "    # 讀取 CSV 檔案內容\n",
    "    rows = csv.reader(csvfile)\n",
    "    # 以迴圈取出班次一的每一個時間\n",
    "    header = True\n",
    "    for row in rows:\n",
    "        if header:\n",
    "            first = row.index('班次1')\n",
    "            header = not header\n",
    "            continue\n",
    "        \n",
    "        print(row[first])"
   ]
  },
  {
   "cell_type": "code",
   "execution_count": null,
   "metadata": {},
   "outputs": [],
   "source": [
    "# 2. 將班次一的每一個時間用一種資料型態保存\n",
    "data = []\n",
    "\n",
    "with open('/Users/user/Desktop/1st-PyCrawlerMarathon/範例/D2/example.csv', newline='', encoding='utf-8') as csvfile:\n",
    "    # 讀取 CSV 檔案內容\n",
    "    rows = csv.reader(csvfile)\n",
    "    # 以迴圈將班次一的每一個時間用一種資料型態保存\n",
    "    header = True\n",
    "    for row in rows:\n",
    "        data.append(row[5])\n",
    "print(data)"
   ]
  },
  {
   "cell_type": "code",
   "execution_count": null,
   "metadata": {},
   "outputs": [],
   "source": [
    "# 3. 將班次一到五與其所有時間用一種資料型態個別保存\n",
    "\n",
    "# 開啟 CSV 檔案\n",
    "with open('/Users/user/Desktop/1st-PyCrawlerMarathon/範例/D2/example.csv', newline='', encoding='utf-8') as csvfile:\n",
    "    # 讀取 CSV 檔案內容\n",
    "    rows = csv.reader(csvfile)\n",
    "    # 以迴圈將班次一到五與其所有時間用一種資料型態個別保存\n",
    "    columns = ['班次1', '班次2', '班次3', '班次4', '班次5']\n",
    "    column_idxs = []\n",
    "    shifts = {col:list() for col in columns}\n",
    "    header = True\n",
    "    for row in rows:\n",
    "        if header:\n",
    "            for idx, col in enumerate(columns):\n",
    "                column_idxs.insert(idx, row.index(col))\n",
    "            header = not header\n",
    "            continue\n",
    "        \n",
    "        for idx, col in enumerate(columns):\n",
    "            shifts[col].append(row[column_idxs[idx]])\n",
    "        \n",
    "print(shifts)"
   ]
  },
  {
   "cell_type": "code",
   "execution_count": null,
   "metadata": {},
   "outputs": [],
   "source": []
  }
 ],
 "metadata": {
  "kernelspec": {
   "display_name": "Python 3",
   "language": "python",
   "name": "python3"
  },
  "language_info": {
   "codemirror_mode": {
    "name": "ipython",
    "version": 3
   },
   "file_extension": ".py",
   "mimetype": "text/x-python",
   "name": "python",
   "nbconvert_exporter": "python",
   "pygments_lexer": "ipython3",
   "version": "3.7.4"
  }
 },
 "nbformat": 4,
 "nbformat_minor": 2
}
